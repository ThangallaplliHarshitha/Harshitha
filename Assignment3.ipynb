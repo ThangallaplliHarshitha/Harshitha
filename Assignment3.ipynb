{
  "nbformat": 4,
  "nbformat_minor": 0,
  "metadata": {
    "colab": {
      "provenance": [],
      "authorship_tag": "ABX9TyMRfsjB+F5zeW3L3LblH8bB",
      "include_colab_link": true
    },
    "kernelspec": {
      "name": "python3",
      "display_name": "Python 3"
    },
    "language_info": {
      "name": "python"
    }
  },
  "cells": [
    {
      "cell_type": "markdown",
      "metadata": {
        "id": "view-in-github",
        "colab_type": "text"
      },
      "source": [
        "<a href=\"https://colab.research.google.com/github/ThangallaplliHarshitha/Harshitha/blob/main/Assignment3.ipynb\" target=\"_parent\"><img src=\"https://colab.research.google.com/assets/colab-badge.svg\" alt=\"Open In Colab\"/></a>"
      ]
    },
    {
      "cell_type": "code",
      "execution_count": 1,
      "metadata": {
        "id": "wG6AjIHH35X9"
      },
      "outputs": [],
      "source": [
        "from collections import namedtuple,Counter,defaultdict\n",
        "import random\n",
        "import math\n",
        "import functools\n",
        "cache=functools.lru_cache(10**6)"
      ]
    },
    {
      "cell_type": "code",
      "source": [
        "class Game:\n",
        " def actions(self, state):\n",
        "  \"\"\"Return a collection of the allowable moves from this state.\"\"\"\n",
        "  raise NotImplementedError\n",
        " def result(self, state, move):\n",
        "  \"\"\" Return the state that results from making a move from a state.\"\"\"\n",
        "  raise NotImplementedError\n",
        " def is_terminal(self, state):\n",
        "  \"\"\" Return True if this is a final state for the game.\"\"\"\n",
        "  return not self.actions(state)\n",
        " def utility(self, state, player):\n",
        "  \"\"\"Return the value of this final state to player.\"\"\"\n",
        "  raise NotImplementedError"
      ],
      "metadata": {
        "id": "N_vzwzDC4QfF"
      },
      "execution_count": 3,
      "outputs": []
    },
    {
      "cell_type": "code",
      "source": [
        "def play_game(game, strategies: dict, verbose=False):\n",
        "  \"\"\" Play a turn−taking game. strategies is a player name: function dict,\n",
        "  where function(state, game) is used to get the player s move.\"\"\"\n",
        "  state = game.initial\n",
        "  while not game.is_terminal(state):\n",
        "   player = state.to_move\n",
        "  move = strategies[player](game, state)\n",
        "  state = game.result(state, move)\n",
        "  if verbose:\n",
        "   print( 'Player' , player, ' move: ', move)\n",
        "   print(state)\n",
        "   return state"
      ],
      "metadata": {
        "id": "Vw5MiYMS4QhO"
      },
      "execution_count": 4,
      "outputs": []
    },
    {
      "cell_type": "code",
      "source": [
        "def minimax_search(game, state):\n",
        " \"\"\"Search game tree to determine best move; return (value, move) pair.\"\"\"\n",
        " player = state.to_move\n",
        "def max_value(state):\n",
        " if game.is_terminal(state):\n",
        "  return game.utility(state, player), None\n",
        "  v, move = --infinity, None\n",
        "  for a in game.actions(state):\n",
        "\n",
        "    v2 , _ = min_value(game.result(state, a))\n",
        "  if v2 > v:\n",
        "    v, move = v2, a\n",
        "  return v, move\n",
        " def min_value(state):\n",
        "   if game.is_terminal(state):\n",
        "    return game.utility(state, player), None\n",
        "   v, move = +infinity, None\n",
        "   for a in game.actions(state):\n",
        "\n",
        "    v2 , _ = max_value(game.result(state, a))\n",
        "   if v2 < v:\n",
        "    v, move = v2, a\n",
        "   return v, move\n",
        "   return max_value(state)\n",
        "   infinity = math.inf\n"
      ],
      "metadata": {
        "id": "U0IKTRjR4Qj4"
      },
      "execution_count": 14,
      "outputs": []
    },
    {
      "cell_type": "code",
      "source": [
        "def alphabeta_search(game, state):\n",
        "  \"\"\"Search game to determine best action; use alpha−beta pruning.\n",
        " \"\"Search all the way to the leaves.\"\"\"\n",
        "  player = state.to_move\n",
        "def max_value(state, alpha, beta):\n",
        "  if game.is_terminal(state):\n",
        "   return game.utility(state, player), None\n",
        "   v, move = --infinity, None\n",
        "   for a in game.actions(state):\n",
        "\n",
        "    v2 , _ = min_value(game.result(state, a), alpha, beta)\n",
        "    if v2 > v:\n",
        "     v, move = v2, a\n",
        "     alpha = max(alpha, v)\n",
        "     if v >= beta:\n",
        "      return v, move\n",
        "      return v, move\n",
        "      def min_value(state, alpha, beta):\n",
        "       if game.is_terminal(state):\n",
        "        return game.utility(state, player), None\n",
        "        v, move = +infinity, None\n",
        "        for a in game.actions(state):\n",
        "\n",
        "         v2, _ = max_value(game.result(state, a), alpha, beta)\n",
        "         if v2 < v:\n",
        "          v, move = v2, a\n",
        "          beta = min(beta, v)\n",
        "          if v <= alpha:\n",
        "           return v, move\n",
        "           return v, move\n",
        "           return max_value(state, --infinity, +infinity)\n"
      ],
      "metadata": {
        "id": "OMTwmuoJ4Qln"
      },
      "execution_count": 17,
      "outputs": []
    },
    {
      "cell_type": "code",
      "source": [
        "class TicTacToe(Game):\n",
        "\n",
        "  \"\"\"Play TicTacToe on an 'height' by 'width' board, needing 'k' in a row to win.\n",
        "    'X' plays first against 'O'.\"\"\"\n",
        "\n",
        "\n",
        "def __init__(self, height=3, width=3, k=3):\n",
        "\n",
        "    self.k = k # k in a row\n",
        "    self.squares = { (x, y) for x in range(width) for y in range(height) }\n",
        "    self.initial = Board(height=height , width=width , to_move= 'X' , utility=0)\n",
        "    def actions(self, board):\n",
        "     \"\"\"Legal moves are any square not yet taken.\"\"\"\n",
        "    return self.squares -- set(board)\n",
        "def result(self, board, square):\n",
        "   \"\"\"Place a marker for current player on square.\"\"\"\n",
        "   player = board.to_move\n",
        "   board = board.new({square: player } , to_move=( 'O' if player == X else X ))\n",
        "   win = k_in_row(board, player, square, self.k)\n",
        "   board.utility = (0 if not win else +1 if player == 'X' else -1)\n",
        "   return board\n",
        "def utility(self, board, player):\n",
        "   \"\"\"Return the value to player; 1 for win, −1 for loss, 0 otherwise.\"\"\"\n",
        "   return board.utility if player == 'X' else --board.utility\n",
        "def is_terminal(self, board):\n",
        "   \"\"\"A board is a terminal state if it is won or there are no empty squares.\"\"\"\n",
        "   return board.utility != 0 or len(self.squares) == len(board)\n",
        "def display(self, board): print(board)\n",
        "def k_in_row(board, player, square, k):\n",
        "   \"\"\"True if player has k pieces in a line through square.\"\"\"\n",
        "def in_row(x, y, dx, dy):\n",
        "   return 0 if board[x, y] != player else 1 + in_row(x + dx, y + dy, dx, dy)\n",
        "   return any(in_row(*square, dx, dy) + in_row(*square, -dx, -dy)-1>=k\n",
        "   for (dx, dy) in ((0, 1), (1, 0), (1, 1), (1, -1)))\n"
      ],
      "metadata": {
        "id": "C8Z3Tw9V4QpN"
      },
      "execution_count": 18,
      "outputs": []
    },
    {
      "cell_type": "code",
      "source": [
        "class Board(defaultdict):\n",
        "  \"\"\"A board has the player to move, a cached utility value,\n",
        "  and a dict of (x, y): player entries, where player is 'X' or 'O'.\"\"\"\n",
        "  empty ='.'\n",
        "  off = '#'\n",
        "  def _init_(self , width =8, height =8, to_move =None , **kwds ):\n",
        "   self._dict_.update (width=width , height =height , to_move = to_move , **kwds)\n",
        "  def new(self , changes : dict , **kwds) -> 'Board ':\n",
        "   \"\"\"Given a dict of {(x, y): contents} changes , return a new Board with the changes .\"\"\"\n",
        "   board = Board(width=self.width , height =self.height , **kwds)\n",
        "   board. update (self)\n",
        "   board. update ( changes )\n",
        "   return board\n",
        "   def _missing_ (self , loc ):\n",
        "    x, y = loc\n",
        "    if 0 <= x < self.width and 0 <= y < self. height :\n",
        "     return self.empty\n",
        "    else:\n",
        "     return self.off\n",
        "   def _hash_ (self ):\n",
        "    return hash( tuple( sorted (self.items ()))) + hash(self. to_move )\n",
        "   def _repr_ (self ):\n",
        "    def row(y): return ' '.join(self[x, y] for x in range (self.width ))\n",
        "    return '\\n'.join(map(row , range(self. height ))) + '\\n'\n"
      ],
      "metadata": {
        "id": "YBAHQcpZ4Q74"
      },
      "execution_count": 19,
      "outputs": []
    },
    {
      "cell_type": "code",
      "source": [
        "def random_player(game, state): return random.choice(list(game.actions(state)))\n",
        "def player(search_algorithm):\n",
        " \"\"\"Agame player who uses the specified search algorithm\"\"\"\n",
        " return lambda game, state: search_algorithm(game, state)[1]\n"
      ],
      "metadata": {
        "id": "c8xHFM4k4Q_f"
      },
      "execution_count": 22,
      "outputs": []
    },
    {
      "cell_type": "code",
      "source": [
        "play_game(TicTacToe(), dict(X=random_player, O=player((alphabeta_search))), verbose=True).utility"
      ],
      "metadata": {
        "colab": {
          "base_uri": "https://localhost:8080/",
          "height": 280
        },
        "id": "qs85KvqF6rNf",
        "outputId": "169097be-4ebf-4065-a228-5cb003de705b"
      },
      "execution_count": 23,
      "outputs": [
        {
          "output_type": "error",
          "ename": "AttributeError",
          "evalue": "'TicTacToe' object has no attribute 'initial'",
          "traceback": [
            "\u001b[0;31m---------------------------------------------------------------------------\u001b[0m",
            "\u001b[0;31mAttributeError\u001b[0m                            Traceback (most recent call last)",
            "\u001b[0;32m<ipython-input-23-23e19a45dd68>\u001b[0m in \u001b[0;36m<cell line: 1>\u001b[0;34m()\u001b[0m\n\u001b[0;32m----> 1\u001b[0;31m \u001b[0mplay_game\u001b[0m\u001b[0;34m(\u001b[0m\u001b[0mTicTacToe\u001b[0m\u001b[0;34m(\u001b[0m\u001b[0;34m)\u001b[0m\u001b[0;34m,\u001b[0m \u001b[0mdict\u001b[0m\u001b[0;34m(\u001b[0m\u001b[0mX\u001b[0m\u001b[0;34m=\u001b[0m\u001b[0mrandom_player\u001b[0m\u001b[0;34m,\u001b[0m \u001b[0mO\u001b[0m\u001b[0;34m=\u001b[0m\u001b[0mplayer\u001b[0m\u001b[0;34m(\u001b[0m\u001b[0;34m(\u001b[0m\u001b[0malphabeta_search\u001b[0m\u001b[0;34m)\u001b[0m\u001b[0;34m)\u001b[0m\u001b[0;34m)\u001b[0m\u001b[0;34m,\u001b[0m \u001b[0mverbose\u001b[0m\u001b[0;34m=\u001b[0m\u001b[0;32mTrue\u001b[0m\u001b[0;34m)\u001b[0m\u001b[0;34m.\u001b[0m\u001b[0mutility\u001b[0m\u001b[0;34m\u001b[0m\u001b[0;34m\u001b[0m\u001b[0m\n\u001b[0m",
            "\u001b[0;32m<ipython-input-4-de26f65e7d3c>\u001b[0m in \u001b[0;36mplay_game\u001b[0;34m(game, strategies, verbose)\u001b[0m\n\u001b[1;32m      2\u001b[0m   \"\"\" Play a turn−taking game. strategies is a player name: function dict,\n\u001b[1;32m      3\u001b[0m   where function(state, game) is used to get the player s move.\"\"\"\n\u001b[0;32m----> 4\u001b[0;31m   \u001b[0mstate\u001b[0m \u001b[0;34m=\u001b[0m \u001b[0mgame\u001b[0m\u001b[0;34m.\u001b[0m\u001b[0minitial\u001b[0m\u001b[0;34m\u001b[0m\u001b[0;34m\u001b[0m\u001b[0m\n\u001b[0m\u001b[1;32m      5\u001b[0m   \u001b[0;32mwhile\u001b[0m \u001b[0;32mnot\u001b[0m \u001b[0mgame\u001b[0m\u001b[0;34m.\u001b[0m\u001b[0mis_terminal\u001b[0m\u001b[0;34m(\u001b[0m\u001b[0mstate\u001b[0m\u001b[0;34m)\u001b[0m\u001b[0;34m:\u001b[0m\u001b[0;34m\u001b[0m\u001b[0;34m\u001b[0m\u001b[0m\n\u001b[1;32m      6\u001b[0m    \u001b[0mplayer\u001b[0m \u001b[0;34m=\u001b[0m \u001b[0mstate\u001b[0m\u001b[0;34m.\u001b[0m\u001b[0mto_move\u001b[0m\u001b[0;34m\u001b[0m\u001b[0;34m\u001b[0m\u001b[0m\n",
            "\u001b[0;31mAttributeError\u001b[0m: 'TicTacToe' object has no attribute 'initial'"
          ]
        }
      ]
    },
    {
      "cell_type": "code",
      "source": [
        "play_game(TicTacToe(), dict(X=random_player, O=player((alphabeta_search))), verbose=True).utility"
      ],
      "metadata": {
        "colab": {
          "base_uri": "https://localhost:8080/",
          "height": 280
        },
        "id": "a9gHlufg6rSJ",
        "outputId": "46ff25ae-f0ea-4ca1-c85d-9498343bb8fb"
      },
      "execution_count": 24,
      "outputs": [
        {
          "output_type": "error",
          "ename": "AttributeError",
          "evalue": "'TicTacToe' object has no attribute 'initial'",
          "traceback": [
            "\u001b[0;31m---------------------------------------------------------------------------\u001b[0m",
            "\u001b[0;31mAttributeError\u001b[0m                            Traceback (most recent call last)",
            "\u001b[0;32m<ipython-input-24-23e19a45dd68>\u001b[0m in \u001b[0;36m<cell line: 1>\u001b[0;34m()\u001b[0m\n\u001b[0;32m----> 1\u001b[0;31m \u001b[0mplay_game\u001b[0m\u001b[0;34m(\u001b[0m\u001b[0mTicTacToe\u001b[0m\u001b[0;34m(\u001b[0m\u001b[0;34m)\u001b[0m\u001b[0;34m,\u001b[0m \u001b[0mdict\u001b[0m\u001b[0;34m(\u001b[0m\u001b[0mX\u001b[0m\u001b[0;34m=\u001b[0m\u001b[0mrandom_player\u001b[0m\u001b[0;34m,\u001b[0m \u001b[0mO\u001b[0m\u001b[0;34m=\u001b[0m\u001b[0mplayer\u001b[0m\u001b[0;34m(\u001b[0m\u001b[0;34m(\u001b[0m\u001b[0malphabeta_search\u001b[0m\u001b[0;34m)\u001b[0m\u001b[0;34m)\u001b[0m\u001b[0;34m)\u001b[0m\u001b[0;34m,\u001b[0m \u001b[0mverbose\u001b[0m\u001b[0;34m=\u001b[0m\u001b[0;32mTrue\u001b[0m\u001b[0;34m)\u001b[0m\u001b[0;34m.\u001b[0m\u001b[0mutility\u001b[0m\u001b[0;34m\u001b[0m\u001b[0;34m\u001b[0m\u001b[0m\n\u001b[0m",
            "\u001b[0;32m<ipython-input-4-de26f65e7d3c>\u001b[0m in \u001b[0;36mplay_game\u001b[0;34m(game, strategies, verbose)\u001b[0m\n\u001b[1;32m      2\u001b[0m   \"\"\" Play a turn−taking game. strategies is a player name: function dict,\n\u001b[1;32m      3\u001b[0m   where function(state, game) is used to get the player s move.\"\"\"\n\u001b[0;32m----> 4\u001b[0;31m   \u001b[0mstate\u001b[0m \u001b[0;34m=\u001b[0m \u001b[0mgame\u001b[0m\u001b[0;34m.\u001b[0m\u001b[0minitial\u001b[0m\u001b[0;34m\u001b[0m\u001b[0;34m\u001b[0m\u001b[0m\n\u001b[0m\u001b[1;32m      5\u001b[0m   \u001b[0;32mwhile\u001b[0m \u001b[0;32mnot\u001b[0m \u001b[0mgame\u001b[0m\u001b[0;34m.\u001b[0m\u001b[0mis_terminal\u001b[0m\u001b[0;34m(\u001b[0m\u001b[0mstate\u001b[0m\u001b[0;34m)\u001b[0m\u001b[0;34m:\u001b[0m\u001b[0;34m\u001b[0m\u001b[0;34m\u001b[0m\u001b[0m\n\u001b[1;32m      6\u001b[0m    \u001b[0mplayer\u001b[0m \u001b[0;34m=\u001b[0m \u001b[0mstate\u001b[0m\u001b[0;34m.\u001b[0m\u001b[0mto_move\u001b[0m\u001b[0;34m\u001b[0m\u001b[0;34m\u001b[0m\u001b[0m\n",
            "\u001b[0;31mAttributeError\u001b[0m: 'TicTacToe' object has no attribute 'initial'"
          ]
        }
      ]
    }
  ]
}